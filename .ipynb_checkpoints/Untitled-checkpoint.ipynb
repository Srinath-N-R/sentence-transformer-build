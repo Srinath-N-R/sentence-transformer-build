{
 "cells": [
  {
   "cell_type": "code",
   "execution_count": 1,
   "id": "84e8d26a-a61b-4a69-8ae0-9617f6084e3e",
   "metadata": {},
   "outputs": [],
   "source": [
    "# conda create -n sent-transform python=3.10\n",
    "# !pip install jupyter\n",
    "# !pip install datasets\n",
    "# !pip install regex\n",
    "# !pip install torch"
   ]
  },
  {
   "cell_type": "markdown",
   "id": "9c6a60b0-aada-4e52-b79e-aa801fb98eb9",
   "metadata": {},
   "source": [
    "# Task 1: Sentence Transformer Implementation\n",
    "\n",
    "## 1. Create sentence tokenizer\n",
    "    1. Word-vocab lookup\n",
    "    2. WordPiece Tokenizer\n",
    "    3. Byte Pair Encoding Tokenizer\n",
    "\n",
    "## 2. Create positional embeddings\n",
    "\n",
    "## 3. Train a siamese network on a triplet dataset to pretrain the sentence transformer\n",
    "\n",
    "# Task 2: Multi-Task Learning Expansion\n",
    "\n",
    "# Task 3: Training Considerations\n",
    "\n",
    "# Task 4: Training Loop Implementation\n"
   ]
  },
  {
   "cell_type": "code",
   "execution_count": null,
   "id": "8d73e1fe-0df6-45f4-86ff-331e3d155ea5",
   "metadata": {},
   "outputs": [],
   "source": []
  }
 ],
 "metadata": {
  "kernelspec": {
   "display_name": "Python 3 (ipykernel)",
   "language": "python",
   "name": "python3"
  },
  "language_info": {
   "codemirror_mode": {
    "name": "ipython",
    "version": 3
   },
   "file_extension": ".py",
   "mimetype": "text/x-python",
   "name": "python",
   "nbconvert_exporter": "python",
   "pygments_lexer": "ipython3",
   "version": "3.10.16"
  }
 },
 "nbformat": 4,
 "nbformat_minor": 5
}
